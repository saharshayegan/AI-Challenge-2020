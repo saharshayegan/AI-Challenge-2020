{
  "cells": [
    {
      "cell_type": "markdown",
      "metadata": {
        "id": "view-in-github",
        "colab_type": "text"
      },
      "source": [
        "<a href=\"https://colab.research.google.com/github/saharshayegan/AI-Challenge-2020/blob/master/SocialNetXNLP.ipynb\" target=\"_parent\"><img src=\"https://colab.research.google.com/assets/colab-badge.svg\" alt=\"Open In Colab\"/></a>"
      ]
    },
    {
      "cell_type": "code",
      "execution_count": null,
      "metadata": {
        "id": "bl-RtfuSEtYM"
      },
      "outputs": [],
      "source": [
        "import networkx as nx"
      ]
    },
    {
      "cell_type": "code",
      "execution_count": null,
      "metadata": {
        "colab": {
          "base_uri": "https://localhost:8080/"
        },
        "id": "OSgjAhlCA0YI",
        "outputId": "a0c0cb0b-c81b-491d-9ad5-4d1c8b9abb97"
      },
      "outputs": [
        {
          "output_type": "stream",
          "name": "stdout",
          "text": [
            "Drive already mounted at /content/drive; to attempt to forcibly remount, call drive.mount(\"/content/drive\", force_remount=True).\n"
          ]
        }
      ],
      "source": [
        "from google.colab import drive\n",
        "drive.mount('/content/drive')"
      ]
    },
    {
      "cell_type": "code",
      "execution_count": null,
      "metadata": {
        "id": "V_EL6l5vFFMA"
      },
      "outputs": [],
      "source": [
        "import pickle\n",
        "with open(\"/content/drive/MyDrive/twitter-April20/sahar_following_data-20220420\", \"rb\") as fp:   # Unpickling\n",
        "  sahar = pickle.load(fp)"
      ]
    },
    {
      "cell_type": "markdown",
      "metadata": {
        "id": "ZQp_SBIDwzqg"
      },
      "source": [
        "# Load and vectorize the tweets of my friends\n",
        "### **DO NOT RUN**"
      ]
    },
    {
      "cell_type": "code",
      "execution_count": null,
      "metadata": {
        "id": "YIab0x8Jw4PY"
      },
      "outputs": [],
      "source": [
        "import pandas as pd"
      ]
    },
    {
      "cell_type": "code",
      "execution_count": null,
      "metadata": {
        "id": "EPnU0H58BiED"
      },
      "outputs": [],
      "source": [
        "maanenaa = '2582056045'\n",
        "if maanenaa not in sahar:\n",
        "  sahar.append(maanenaa)"
      ]
    },
    {
      "cell_type": "code",
      "execution_count": null,
      "metadata": {
        "id": "tU-6VBN4xLNt"
      },
      "outputs": [],
      "source": [
        "df = pd.read_csv('/content/drive/MyDrive/Colab Notebooks/dec2021tweets.csv')\n",
        "df2 =pd.read_csv('/content/drive/MyDrive/Colab Notebooks/nov2021tweets.csv')"
      ]
    },
    {
      "cell_type": "code",
      "execution_count": null,
      "metadata": {
        "id": "ItByiid6xbB5"
      },
      "outputs": [],
      "source": [
        "df= df.loc[df.apply(lambda x: x.user_id in sahar, axis=1)]\n",
        "df2= df2.loc[df2.apply(lambda x: x.user_id in sahar, axis=1)]"
      ]
    },
    {
      "cell_type": "code",
      "execution_count": null,
      "metadata": {
        "id": "i4JCSkyi-pz1"
      },
      "outputs": [],
      "source": [
        "df3 = pd.read_csv('/content/drive/MyDrive/Colab Notebooks/oct2021tweets.csv')\n",
        "df4 = pd.read_csv('/content/drive/MyDrive/Colab Notebooks/sep2021tweets.csv')"
      ]
    },
    {
      "cell_type": "code",
      "execution_count": null,
      "metadata": {
        "id": "QvpJ8Pc4-zBJ"
      },
      "outputs": [],
      "source": [
        "df3= df3.loc[df3.apply(lambda x: x.user_id in sahar, axis=1)]\n",
        "df4= df4.loc[df4.apply(lambda x: x.user_id in sahar, axis=1)]"
      ]
    },
    {
      "cell_type": "code",
      "execution_count": null,
      "metadata": {
        "id": "_OguzD4W9pyV"
      },
      "outputs": [],
      "source": [
        "filtered = pd.concat([df, df2, df3, df4])"
      ]
    },
    {
      "cell_type": "code",
      "execution_count": null,
      "metadata": {
        "id": "sNR2Kv7TCSsn"
      },
      "outputs": [],
      "source": [
        "del df\n",
        "del df2\n",
        "del df3\n",
        "del df4"
      ]
    },
    {
      "cell_type": "code",
      "execution_count": null,
      "metadata": {
        "colab": {
          "base_uri": "https://localhost:8080/"
        },
        "id": "7v637DUE9b9Y",
        "outputId": "f7645076-d532-4d2b-893c-c8d6ab3c9363"
      },
      "outputs": [
        {
          "data": {
            "text/plain": [
              "(15249, 18)"
            ]
          },
          "execution_count": 12,
          "metadata": {},
          "output_type": "execute_result"
        }
      ],
      "source": [
        "filtered.shape"
      ]
    },
    {
      "cell_type": "code",
      "execution_count": null,
      "metadata": {
        "colab": {
          "base_uri": "https://localhost:8080/"
        },
        "id": "La-sBrVXOaCP",
        "outputId": "99ce2105-4ec5-4afd-ecf5-9129cc3fa17a"
      },
      "outputs": [
        {
          "data": {
            "text/plain": [
              "Index(['language', 'conversation_id', 'retweets_count', 'mentions',\n",
              "       'created_at', 'likes_count', 'possibly_sensitive',\n",
              "       'in_reply_to_user_id', '_id', 'source', 'user_id',\n",
              "       'in_reply_to_status_id', 'tweet', 'replies_count', 'quoted_status_id',\n",
              "       'hashtags', 'cashtags', 'urls'],\n",
              "      dtype='object')"
            ]
          },
          "execution_count": 13,
          "metadata": {},
          "output_type": "execute_result"
        }
      ],
      "source": [
        "filtered.columns"
      ]
    },
    {
      "cell_type": "code",
      "execution_count": null,
      "metadata": {
        "id": "SvJQBh6u4DB0"
      },
      "outputs": [],
      "source": [
        "uniques = filtered['user_id'].unique()"
      ]
    },
    {
      "cell_type": "code",
      "execution_count": null,
      "metadata": {
        "colab": {
          "base_uri": "https://localhost:8080/"
        },
        "id": "yFPfRP1oOAzU",
        "outputId": "1d13913d-1a72-42d5-ae8c-a58fc7d66be8"
      },
      "outputs": [
        {
          "data": {
            "text/plain": [
              "481"
            ]
          },
          "execution_count": 15,
          "metadata": {},
          "output_type": "execute_result"
        }
      ],
      "source": [
        "len(uniques)"
      ]
    },
    {
      "cell_type": "code",
      "execution_count": null,
      "metadata": {
        "id": "QTL9101pf2Fu"
      },
      "outputs": [],
      "source": [
        "import pickle\n",
        "pickle_out = open(\"/content/drive/MyDrive/twitter-April20/uniques.pickle\", \"wb\")\n",
        "pickle.dump(uniques, pickle_out)\n",
        "pickle_out.close()"
      ]
    },
    {
      "cell_type": "code",
      "execution_count": null,
      "metadata": {
        "id": "aP5v2SzdOPaU"
      },
      "outputs": [],
      "source": [
        "from sklearn.feature_extraction.text import TfidfVectorizer\n",
        "v = TfidfVectorizer()"
      ]
    },
    {
      "cell_type": "code",
      "execution_count": null,
      "metadata": {
        "id": "GmT_vsaEfles"
      },
      "outputs": [],
      "source": [
        "x = v.fit_transform(filtered['tweet'])"
      ]
    },
    {
      "cell_type": "code",
      "execution_count": null,
      "metadata": {
        "id": "9fmwRhaNOh0J"
      },
      "outputs": [],
      "source": [
        "arr = x.toarray()"
      ]
    },
    {
      "cell_type": "code",
      "execution_count": null,
      "metadata": {
        "id": "1__JzjxmnR-p"
      },
      "outputs": [],
      "source": [
        "del x"
      ]
    },
    {
      "cell_type": "code",
      "execution_count": null,
      "metadata": {
        "colab": {
          "base_uri": "https://localhost:8080/"
        },
        "id": "kd4Ju7ZbkP51",
        "outputId": "e2b3b37a-9d32-41fe-e5c1-0b7b046227de"
      },
      "outputs": [
        {
          "data": {
            "text/plain": [
              "30470"
            ]
          },
          "execution_count": 21,
          "metadata": {},
          "output_type": "execute_result"
        }
      ],
      "source": [
        "len(arr[0])"
      ]
    },
    {
      "cell_type": "code",
      "execution_count": null,
      "metadata": {
        "colab": {
          "base_uri": "https://localhost:8080/"
        },
        "id": "caxRRudXvaKy",
        "outputId": "52fdc8f0-1cf4-4b69-bd00-ac4c4bc7f4a6"
      },
      "outputs": [
        {
          "data": {
            "text/plain": [
              "15249"
            ]
          },
          "execution_count": 22,
          "metadata": {},
          "output_type": "execute_result"
        }
      ],
      "source": [
        "len(arr)"
      ]
    },
    {
      "cell_type": "markdown",
      "metadata": {
        "id": "BxXSklbLk41F"
      },
      "source": [
        "# Find the tweets of each user and get the sum of their vectors\n",
        "### **DO NOT RUN**"
      ]
    },
    {
      "cell_type": "code",
      "execution_count": null,
      "metadata": {
        "id": "pQEFdzwFqvQQ"
      },
      "outputs": [],
      "source": [
        "filtered = filtered.reset_index(level=0)"
      ]
    },
    {
      "cell_type": "code",
      "execution_count": null,
      "metadata": {
        "id": "GHnXcW7GpqMl"
      },
      "outputs": [],
      "source": [
        "import numpy as np\n",
        "user_vec = pd.DataFrame(columns=['user_id','vector'])\n",
        "counter= 0\n",
        "for id in sahar:\n",
        "  print(counter, end=' ')\n",
        "  counter+=1\n",
        "  indices = (filtered.loc[filtered.apply(lambda x: x.user_id == id, axis=1)].reset_index(level=0))['level_0']\n",
        "  vec_sum = np.zeros((1,len(arr[0])))\n",
        "  for i in indices:\n",
        "    vec_sum += arr[i]\n",
        "  dic = {'user_id':id, 'vector':vec_sum/len(indices)}\n",
        "  user_vec = user_vec.append(dic, ignore_index = True)"
      ]
    },
    {
      "cell_type": "code",
      "execution_count": null,
      "metadata": {
        "id": "RVr0CIoKK8_-"
      },
      "outputs": [],
      "source": [
        "del vec_sum"
      ]
    },
    {
      "cell_type": "code",
      "execution_count": null,
      "metadata": {
        "id": "V7faag6squUA"
      },
      "outputs": [],
      "source": [
        "# vec_sum"
      ]
    },
    {
      "cell_type": "code",
      "execution_count": null,
      "metadata": {
        "colab": {
          "base_uri": "https://localhost:8080/",
          "height": 224
        },
        "id": "nx-5lQVvDsNA",
        "outputId": "d3870a06-3c32-48f5-d0b5-907c8f028f18"
      },
      "outputs": [
        {
          "name": "stdout",
          "output_type": "stream",
          "text": [
            "(699, 2)\n"
          ]
        },
        {
          "data": {
            "text/html": [
              "\n",
              "  <div id=\"df-aa84b41c-9a0a-4894-b551-854d387d5727\">\n",
              "    <div class=\"colab-df-container\">\n",
              "      <div>\n",
              "<style scoped>\n",
              "    .dataframe tbody tr th:only-of-type {\n",
              "        vertical-align: middle;\n",
              "    }\n",
              "\n",
              "    .dataframe tbody tr th {\n",
              "        vertical-align: top;\n",
              "    }\n",
              "\n",
              "    .dataframe thead th {\n",
              "        text-align: right;\n",
              "    }\n",
              "</style>\n",
              "<table border=\"1\" class=\"dataframe\">\n",
              "  <thead>\n",
              "    <tr style=\"text-align: right;\">\n",
              "      <th></th>\n",
              "      <th>user_id</th>\n",
              "      <th>vector</th>\n",
              "    </tr>\n",
              "  </thead>\n",
              "  <tbody>\n",
              "    <tr>\n",
              "      <th>0</th>\n",
              "      <td>865981751444852736</td>\n",
              "      <td>[[0.0, 0.0, 0.0, 0.0, 0.0, 0.0, 0.0, 0.0, 0.0,...</td>\n",
              "    </tr>\n",
              "    <tr>\n",
              "      <th>1</th>\n",
              "      <td>724963088286502912</td>\n",
              "      <td>[[nan, nan, nan, nan, nan, nan, nan, nan, nan,...</td>\n",
              "    </tr>\n",
              "    <tr>\n",
              "      <th>2</th>\n",
              "      <td>1020607462804795393</td>\n",
              "      <td>[[0.0, 0.0, 0.0, 0.0, 0.0, 0.0, 0.0, 0.0, 0.0,...</td>\n",
              "    </tr>\n",
              "    <tr>\n",
              "      <th>3</th>\n",
              "      <td>1339288641789628422</td>\n",
              "      <td>[[0.0, 0.0, 0.0, 0.0, 0.0, 0.0, 0.0, 0.0, 0.0,...</td>\n",
              "    </tr>\n",
              "    <tr>\n",
              "      <th>4</th>\n",
              "      <td>868167946505474050</td>\n",
              "      <td>[[nan, nan, nan, nan, nan, nan, nan, nan, nan,...</td>\n",
              "    </tr>\n",
              "  </tbody>\n",
              "</table>\n",
              "</div>\n",
              "      <button class=\"colab-df-convert\" onclick=\"convertToInteractive('df-aa84b41c-9a0a-4894-b551-854d387d5727')\"\n",
              "              title=\"Convert this dataframe to an interactive table.\"\n",
              "              style=\"display:none;\">\n",
              "        \n",
              "  <svg xmlns=\"http://www.w3.org/2000/svg\" height=\"24px\"viewBox=\"0 0 24 24\"\n",
              "       width=\"24px\">\n",
              "    <path d=\"M0 0h24v24H0V0z\" fill=\"none\"/>\n",
              "    <path d=\"M18.56 5.44l.94 2.06.94-2.06 2.06-.94-2.06-.94-.94-2.06-.94 2.06-2.06.94zm-11 1L8.5 8.5l.94-2.06 2.06-.94-2.06-.94L8.5 2.5l-.94 2.06-2.06.94zm10 10l.94 2.06.94-2.06 2.06-.94-2.06-.94-.94-2.06-.94 2.06-2.06.94z\"/><path d=\"M17.41 7.96l-1.37-1.37c-.4-.4-.92-.59-1.43-.59-.52 0-1.04.2-1.43.59L10.3 9.45l-7.72 7.72c-.78.78-.78 2.05 0 2.83L4 21.41c.39.39.9.59 1.41.59.51 0 1.02-.2 1.41-.59l7.78-7.78 2.81-2.81c.8-.78.8-2.07 0-2.86zM5.41 20L4 18.59l7.72-7.72 1.47 1.35L5.41 20z\"/>\n",
              "  </svg>\n",
              "      </button>\n",
              "      \n",
              "  <style>\n",
              "    .colab-df-container {\n",
              "      display:flex;\n",
              "      flex-wrap:wrap;\n",
              "      gap: 12px;\n",
              "    }\n",
              "\n",
              "    .colab-df-convert {\n",
              "      background-color: #E8F0FE;\n",
              "      border: none;\n",
              "      border-radius: 50%;\n",
              "      cursor: pointer;\n",
              "      display: none;\n",
              "      fill: #1967D2;\n",
              "      height: 32px;\n",
              "      padding: 0 0 0 0;\n",
              "      width: 32px;\n",
              "    }\n",
              "\n",
              "    .colab-df-convert:hover {\n",
              "      background-color: #E2EBFA;\n",
              "      box-shadow: 0px 1px 2px rgba(60, 64, 67, 0.3), 0px 1px 3px 1px rgba(60, 64, 67, 0.15);\n",
              "      fill: #174EA6;\n",
              "    }\n",
              "\n",
              "    [theme=dark] .colab-df-convert {\n",
              "      background-color: #3B4455;\n",
              "      fill: #D2E3FC;\n",
              "    }\n",
              "\n",
              "    [theme=dark] .colab-df-convert:hover {\n",
              "      background-color: #434B5C;\n",
              "      box-shadow: 0px 1px 3px 1px rgba(0, 0, 0, 0.15);\n",
              "      filter: drop-shadow(0px 1px 2px rgba(0, 0, 0, 0.3));\n",
              "      fill: #FFFFFF;\n",
              "    }\n",
              "  </style>\n",
              "\n",
              "      <script>\n",
              "        const buttonEl =\n",
              "          document.querySelector('#df-aa84b41c-9a0a-4894-b551-854d387d5727 button.colab-df-convert');\n",
              "        buttonEl.style.display =\n",
              "          google.colab.kernel.accessAllowed ? 'block' : 'none';\n",
              "\n",
              "        async function convertToInteractive(key) {\n",
              "          const element = document.querySelector('#df-aa84b41c-9a0a-4894-b551-854d387d5727');\n",
              "          const dataTable =\n",
              "            await google.colab.kernel.invokeFunction('convertToInteractive',\n",
              "                                                     [key], {});\n",
              "          if (!dataTable) return;\n",
              "\n",
              "          const docLinkHtml = 'Like what you see? Visit the ' +\n",
              "            '<a target=\"_blank\" href=https://colab.research.google.com/notebooks/data_table.ipynb>data table notebook</a>'\n",
              "            + ' to learn more about interactive tables.';\n",
              "          element.innerHTML = '';\n",
              "          dataTable['output_type'] = 'display_data';\n",
              "          await google.colab.output.renderOutput(dataTable, element);\n",
              "          const docLink = document.createElement('div');\n",
              "          docLink.innerHTML = docLinkHtml;\n",
              "          element.appendChild(docLink);\n",
              "        }\n",
              "      </script>\n",
              "    </div>\n",
              "  </div>\n",
              "  "
            ],
            "text/plain": [
              "               user_id                                             vector\n",
              "0   865981751444852736  [[0.0, 0.0, 0.0, 0.0, 0.0, 0.0, 0.0, 0.0, 0.0,...\n",
              "1   724963088286502912  [[nan, nan, nan, nan, nan, nan, nan, nan, nan,...\n",
              "2  1020607462804795393  [[0.0, 0.0, 0.0, 0.0, 0.0, 0.0, 0.0, 0.0, 0.0,...\n",
              "3  1339288641789628422  [[0.0, 0.0, 0.0, 0.0, 0.0, 0.0, 0.0, 0.0, 0.0,...\n",
              "4   868167946505474050  [[nan, nan, nan, nan, nan, nan, nan, nan, nan,..."
            ]
          },
          "execution_count": 31,
          "metadata": {},
          "output_type": "execute_result"
        }
      ],
      "source": [
        "print(user_vec.shape)\n",
        "user_vec.head()"
      ]
    },
    {
      "cell_type": "code",
      "execution_count": null,
      "metadata": {
        "id": "DsgJ46SH81QO"
      },
      "outputs": [],
      "source": [
        "# Instead of 'sahar' I should have used 'uniques'\n",
        "# and checked in each loop if user_id is in 'uniques'\n",
        "# because I have no tweets from the ones that are not in uniques\n",
        "import string\n",
        "from scipy.spatial import distance\n",
        "\n",
        "# distance.euclidean(arr[0], arr[1])\n",
        "cols = ['index'].extend(uniques)\n",
        "df_ids = pd.DataFrame(columns=cols)\n",
        "# df_ids['index'] = df_ids['index'].astype('str')\n",
        "for index, row in user_vec.iterrows():\n",
        "\n",
        "  if row['user_id'] in uniques:\n",
        "    dist_dict = {}\n",
        "    dist_dict['index']=str(row['user_id'])\n",
        "    # print(row['user_id'])\n",
        "\n",
        "    for ind, ro in user_vec.iterrows():\n",
        "\n",
        "      # if ind > index and ro['user_id'] in uniques:\n",
        "      if ro['user_id'] in uniques:\n",
        "\n",
        "        if not np.isnan(row['vector']).any() and not np.isnan(ro['vector']).any():\n",
        "          dist_dict[ro['user_id']] = distance.euclidean(row['vector'], ro['vector'])\n",
        "\n",
        "    # print(dist_dict['index'])\n",
        "    df_ids = df_ids.append(dist_dict, ignore_index = True)\n",
        "    # print(df_ids['index'])\n",
        "    # print('added {}'.format(row['user_id']))\n",
        "    print(index, end=' ')\n"
      ]
    },
    {
      "cell_type": "code",
      "execution_count": null,
      "metadata": {
        "id": "emJIBN-UjjZC"
      },
      "outputs": [],
      "source": [
        "# Want to sort the df columns so that the matrix is symmetric\n",
        "sorting_list = ['index']\n",
        "for i, row in user_vec.iterrows():\n",
        "  if(row['user_id'] in uniques):\n",
        "    sorting_list.append(row['user_id'])\n",
        "\n",
        "df_ids = df_ids[sorting_list]"
      ]
    },
    {
      "cell_type": "code",
      "execution_count": null,
      "metadata": {
        "id": "abM4nArkC33U"
      },
      "outputs": [],
      "source": [
        "# df_ids.columns"
      ]
    },
    {
      "cell_type": "code",
      "execution_count": null,
      "metadata": {
        "id": "2kwlc_NDD1Xp"
      },
      "outputs": [],
      "source": [
        "df_ids['min'] = (df_ids[uniques])[df_ids[uniques]>0].idxmin(axis=1)"
      ]
    },
    {
      "cell_type": "code",
      "execution_count": null,
      "metadata": {
        "id": "ukGnPLo8-POB"
      },
      "outputs": [],
      "source": [
        "# Moving the 'id' column to the begining\n",
        "column_to_move = df_ids.pop(\"min\")\n",
        "# insert column with insert(location, column_name, column_value)\n",
        "df_ids.insert(1, \"min\", column_to_move)"
      ]
    },
    {
      "cell_type": "code",
      "execution_count": null,
      "metadata": {
        "id": "ZNMvRT6zwOko"
      },
      "outputs": [],
      "source": [
        "df_ids"
      ]
    },
    {
      "cell_type": "code",
      "execution_count": null,
      "metadata": {
        "id": "Iy3fWJzz0SbV"
      },
      "outputs": [],
      "source": [
        "df_ids.head(15)"
      ]
    },
    {
      "cell_type": "code",
      "execution_count": null,
      "metadata": {
        "id": "KIkCnaGj0DzW"
      },
      "outputs": [],
      "source": [
        "df_ids.to_csv('/content/drive/MyDrive/twitter-April20/Distance of My Network Users NLP.csv')"
      ]
    },
    {
      "cell_type": "code",
      "execution_count": null,
      "metadata": {
        "id": "YW5oyC6203Z7"
      },
      "outputs": [],
      "source": [
        "del df_ids"
      ]
    },
    {
      "cell_type": "markdown",
      "metadata": {
        "id": "kOdIETm10XqC"
      },
      "source": [
        "# Create the nerwork"
      ]
    },
    {
      "cell_type": "markdown",
      "source": [
        "## Create the language network"
      ],
      "metadata": {
        "id": "NRSrpYvRcHKj"
      }
    },
    {
      "cell_type": "code",
      "execution_count": null,
      "metadata": {
        "id": "_5db8zLu0blP"
      },
      "outputs": [],
      "source": [
        "import pandas as pd\n",
        "df = pd.read_csv('/content/drive/MyDrive/twitter-April20/Distance of My Network Users NLP.csv')"
      ]
    },
    {
      "cell_type": "code",
      "execution_count": null,
      "metadata": {
        "id": "UmMbtJIu1uUb"
      },
      "outputs": [],
      "source": [
        "df.drop('Unnamed: 0', axis = 1, inplace = True)"
      ]
    },
    {
      "cell_type": "code",
      "execution_count": null,
      "metadata": {
        "id": "bMhCLQ4r1pG9"
      },
      "outputs": [],
      "source": [
        "df['index'] = df['index'].astype('str')"
      ]
    },
    {
      "cell_type": "code",
      "execution_count": null,
      "metadata": {
        "id": "u11VxqqeBCSx"
      },
      "outputs": [],
      "source": [
        "import networkx as nx"
      ]
    },
    {
      "cell_type": "code",
      "execution_count": null,
      "metadata": {
        "id": "xwZPyf1XhUzm"
      },
      "outputs": [],
      "source": [
        "with open(\"/content/drive/MyDrive/twitter-April20/sahar_following_data-20220420\", \"rb\") as fp:   # Unpickling\n",
        "  sahar = pickle.load(fp)"
      ]
    },
    {
      "cell_type": "code",
      "source": [
        "with open(\"/content/drive/MyDrive/twitter-April20/uniques.pickle\", \"rb\") as fp:   # Unpickling\n",
        "  uniques = pickle.load(fp)"
      ],
      "metadata": {
        "id": "uGMzm4_SD-sY"
      },
      "execution_count": null,
      "outputs": []
    },
    {
      "cell_type": "code",
      "execution_count": null,
      "metadata": {
        "colab": {
          "base_uri": "https://localhost:8080/"
        },
        "id": "U5QhWkJgBPg8",
        "outputId": "18e07af3-b47a-4f5f-ce75-44a8a6e83f92"
      },
      "outputs": [
        {
          "output_type": "stream",
          "name": "stdout",
          "text": [
            "115440  edges added\n"
          ]
        }
      ],
      "source": [
        "g_vecs = nx.Graph()\n",
        "INF = 100000\n",
        "str_uniques = [str(id) for id in uniques]\n",
        "counter=0\n",
        "for i,row in df.iterrows():\n",
        "  for id in str_uniques:\n",
        "    if g_vecs.has_edge(row['index'],id):\n",
        "      counter+=1\n",
        "    else:\n",
        "      if(row[id]!=id):\n",
        "        if(row[id]!=0):\n",
        "          g_vecs.add_edge(row['index'],id, weight=1/row[id])\n",
        "        elif(row[id] == 0):\n",
        "          g_vecs.add_edge(row['index'],id, weight=INF)\n",
        "        else:\n",
        "          print(row[id])\n",
        "print(counter,' edges added')"
      ]
    },
    {
      "cell_type": "code",
      "execution_count": null,
      "metadata": {
        "id": "trEzuxouFjLK"
      },
      "outputs": [],
      "source": [
        "import numpy as np\n",
        "average_weight=np.average([d['weight'] for (u, v, d) in g_vecs.edges(data=True) if d['weight']!=INF])"
      ]
    },
    {
      "cell_type": "code",
      "source": [
        "# Save the graph\n",
        "# nx.write_gexf(g_vecs, \"/content/drive/MyDrive/twitter-April20/NLP network of my friends.gexf\")"
      ],
      "metadata": {
        "id": "PmfDgyc9FWP-"
      },
      "execution_count": null,
      "outputs": []
    },
    {
      "cell_type": "code",
      "source": [
        "max_weight = 0\n",
        "weights_list = []\n",
        "edges = g_vecs.edges\n",
        "for edge in edges:\n",
        "  if edge[0] != edge[1]:\n",
        "    # print(g_vecs.get_edge_data(edge[0],edge[1])['weight'])\n",
        "    max_weight = max(max_weight, g_vecs.get_edge_data(edge[0],edge[1])['weight'])\n",
        "    weights_list.append(g_vecs.get_edge_data(edge[0],edge[1])['weight'])"
      ],
      "metadata": {
        "id": "4TwoDsnslcyC"
      },
      "execution_count": null,
      "outputs": []
    },
    {
      "cell_type": "code",
      "source": [
        "max_weight"
      ],
      "metadata": {
        "id": "oQn8Me5O0ajI",
        "outputId": "830d246f-4cf4-4926-c453-4d3b322e35b3",
        "colab": {
          "base_uri": "https://localhost:8080/"
        }
      },
      "execution_count": null,
      "outputs": [
        {
          "output_type": "execute_result",
          "data": {
            "text/plain": [
              "8.827393276767106"
            ]
          },
          "metadata": {},
          "execution_count": 14
        }
      ]
    },
    {
      "cell_type": "code",
      "source": [
        "import matplotlib.pyplot as plt\n",
        "import numpy as np\n",
        "%matplotlib inline\n",
        "\n",
        "x=weights_list\n",
        "plt.hist(x, density=True, bins=40)  # density=False would make counts\n",
        "plt.ylabel('Count')\n",
        "plt.xlabel('Language Simirality');"
      ],
      "metadata": {
        "colab": {
          "base_uri": "https://localhost:8080/",
          "height": 280
        },
        "id": "DOeF-hKeU0hj",
        "outputId": "633642e7-65ba-4d97-c2fd-5d311943acd5"
      },
      "execution_count": null,
      "outputs": [
        {
          "output_type": "display_data",
          "data": {
            "text/plain": [
              "<Figure size 432x288 with 1 Axes>"
            ],
            "image/png": "[encoded data removed]"
          },
          "metadata": {
            "needs_background": "light"
          }
        }
      ]
    },
    {
      "cell_type": "code",
      "source": [
        "print('edges: ', len(g_vecs.edges))\n",
        "print('nodes: ', len(g_vecs.nodes))"
      ],
      "metadata": {
        "id": "dRqF0KGPcFfz",
        "colab": {
          "base_uri": "https://localhost:8080/"
        },
        "outputId": "dd25eed4-fab4-42c4-d369-6e2233f2c3e1"
      },
      "execution_count": 32,
      "outputs": [
        {
          "output_type": "stream",
          "name": "stdout",
          "text": [
            "edges:  115921\n",
            "nodes:  481\n"
          ]
        }
      ]
    },
    {
      "cell_type": "markdown",
      "metadata": {
        "id": "1L3lxFrfU57h"
      },
      "source": [
        "## Draw the language network\n",
        "##### I dont even need this"
      ]
    },
    {
      "cell_type": "code",
      "execution_count": null,
      "metadata": {
        "colab": {
          "background_save": true
        },
        "id": "fytNrDo7C5rd"
      },
      "outputs": [],
      "source": [
        "#Do not run this\n",
        "\n",
        "# I wanted to draw g but there might be a problem with the weights\n",
        "# so I chosed the edge colors with g and drew g2 with that list\n",
        "import matplotlib.pyplot as plt\n",
        "\n",
        "elarge = [(u, v) for (u, v, d) in g_vecs.edges(data=True) if d[\"weight\"] > average_weight or d['weight'] == INF]\n",
        "esmall = [(u, v) for (u, v, d) in g_vecs.edges(data=True) if d[\"weight\"] <= average_weight and  d['weight'] != INF]\n",
        "# print(len(elarge))\n",
        "# print(len(esmall))\n",
        "# print(len(elarge)+len(esmall)) ## WHY THIS IS NOT EQUAL TO LEN(EDGES)?\n",
        "pos = nx.spring_layout(g_vecs,seed=7)  # positions for all nodes - seed for reproducibility\n",
        "\n",
        "# nodes\n",
        "nx.draw_networkx_nodes(g_vecs, pos, node_size=7, node_color='w')\n",
        "\n",
        "# edges\n",
        "nx.draw_networkx_edges(g_vecs, pos, edgelist=elarge, width=0.01, edge_color='r')\n",
        "nx.draw_networkx_edges(\n",
        "    g_vecs, pos, edgelist=esmall, width=0.006, alpha=0.5, edge_color=\"b\", style=\"dashed\"\n",
        ")\n",
        "\n",
        "# labels\n",
        "# nx.draw_networkx_labels(G, pos, font_size=20, font_family=\"sans-serif\")\n",
        "fig = plt.figure()\n",
        "\n",
        "ax = plt.gca()\n",
        "plt.figure(figsize=(15,7.5),dpi=80) \n",
        "ax.margins(0.08)\n",
        "plt.axis(\"off\")\n",
        "# plt.draw()\n",
        "plt.tight_layout()\n",
        "plt.savefig('/content/drive/MyDrive/twitter-April20/plot2.png')\n",
        "plt.show()\n",
        "fig.savefig('figure', dpi = 150)"
      ]
    },
    {
      "cell_type": "code",
      "execution_count": null,
      "metadata": {
        "colab": {
          "base_uri": "https://localhost:8080/",
          "height": 34
        },
        "id": "m6wVTmDWSy6w",
        "outputId": "b90631b6-f09b-4118-8080-3c2bac7782db"
      },
      "outputs": [
        {
          "data": {
            "text/plain": [
              "<Figure size 432x288 with 0 Axes>"
            ]
          },
          "metadata": {},
          "output_type": "display_data"
        }
      ],
      "source": [
        "plt.savefig('/content/drive/MyDrive/twitter-April20/plot2.png')"
      ]
    },
    {
      "cell_type": "markdown",
      "metadata": {
        "id": "dw2Xdn2CxKCe"
      },
      "source": [
        "## Load the data of your friends and their friends"
      ]
    },
    {
      "cell_type": "code",
      "execution_count": null,
      "metadata": {
        "id": "6ipzw7t4FKO8"
      },
      "outputs": [],
      "source": [
        "import networkx as nx"
      ]
    },
    {
      "cell_type": "code",
      "execution_count": null,
      "metadata": {
        "id": "P6c6lRh-FKO9"
      },
      "outputs": [],
      "source": [
        "import pickle\n",
        "with open(\"/content/drive/MyDrive/twitter-April20/sahar_following_data-20220420\", \"rb\") as fp:   # Unpickling\n",
        "  sahar = pickle.load(fp)"
      ]
    },
    {
      "cell_type": "code",
      "execution_count": 63,
      "metadata": {
        "id": "gF_S8UAoFrhb"
      },
      "outputs": [],
      "source": [
        "import os\n",
        "path = '/content/drive/MyDrive/twitter-April20/data/'\n",
        "files = [file for file in os.listdir(path)]\n",
        "# print(files)"
      ]
    },
    {
      "cell_type": "markdown",
      "source": [
        "## Create the graph of your friends"
      ],
      "metadata": {
        "id": "6sT9H4V9FBq1"
      }
    },
    {
      "cell_type": "code",
      "execution_count": 41,
      "metadata": {
        "id": "XGuYCJ_Q_Yqm",
        "colab": {
          "base_uri": "https://localhost:8080/"
        },
        "outputId": "cc54bdc9-d020-4290-9fa9-2cc0eac264c2"
      },
      "outputs": [
        {
          "output_type": "execute_result",
          "data": {
            "text/plain": [
              "698"
            ]
          },
          "metadata": {},
          "execution_count": 41
        }
      ],
      "source": [
        "len(sahar)"
      ]
    },
    {
      "cell_type": "code",
      "execution_count": 62,
      "metadata": {
        "id": "FbZA75EIGat2"
      },
      "outputs": [],
      "source": [
        "g_fr = nx.Graph()\n",
        "for file in files:\n",
        "  id = file.split(sep='_')[0]\n",
        "  if id in map(str, uniques):\n",
        "    with open(\"/content/drive/MyDrive/twitter-April20/data/{}\".format(file), \"rb\") as fp:\n",
        "      friends = pickle.load(fp)\n",
        "    for friend in friends:\n",
        "      if friend in uniques:\n",
        "        g_fr.add_edge(id, str(friend))"
      ]
    },
    {
      "cell_type": "code",
      "source": [
        "type(friend)"
      ],
      "metadata": {
        "colab": {
          "base_uri": "https://localhost:8080/"
        },
        "id": "-gq9snZwQnv5",
        "outputId": "7b0d1c50-87da-4287-80d5-5b03437a0794"
      },
      "execution_count": 60,
      "outputs": [
        {
          "output_type": "execute_result",
          "data": {
            "text/plain": [
              "int"
            ]
          },
          "metadata": {},
          "execution_count": 60
        }
      ]
    },
    {
      "cell_type": "code",
      "execution_count": 59,
      "metadata": {
        "colab": {
          "base_uri": "https://localhost:8080/"
        },
        "id": "rBRAkzh8JeJ9",
        "outputId": "40c56a2e-78c1-4015-beae-8078add2b886"
      },
      "outputs": [
        {
          "output_type": "stream",
          "name": "stdout",
          "text": [
            "edges:  0\n",
            "nodes:  0\n"
          ]
        }
      ],
      "source": [
        "print('edges: ', len(g_fr.edges))\n",
        "print('nodes: ', len(g_fr.nodes))"
      ]
    },
    {
      "cell_type": "code",
      "execution_count": 52,
      "metadata": {
        "colab": {
          "base_uri": "https://localhost:8080/"
        },
        "id": "9uZZfkFvSeMg",
        "outputId": "61b1d482-d59e-4e7f-ee91-4ebf050b13c8"
      },
      "outputs": [
        {
          "output_type": "execute_result",
          "data": {
            "text/plain": [
              "int"
            ]
          },
          "metadata": {},
          "execution_count": 52
        }
      ],
      "source": [
        ""
      ]
    },
    {
      "cell_type": "code",
      "execution_count": null,
      "metadata": {
        "colab": {
          "background_save": true
        },
        "id": "U-KmOdC_ce8r"
      },
      "outputs": [],
      "source": [
        ""
      ]
    }
  ],
  "metadata": {
    "colab": {
      "collapsed_sections": [
        "ZQp_SBIDwzqg",
        "BxXSklbLk41F",
        "1L3lxFrfU57h",
        "dw2Xdn2CxKCe"
      ],
      "name": "SocialNetXNLP.ipynb",
      "provenance": [],
      "mount_file_id": "1YHcCftzih1azH8jBP9gR0W3GFK62_o5X",
      "authorship_tag": "ABX9TyMTvtsxMl/01cgXMCzltY2G",
      "include_colab_link": true
    },
    "kernelspec": {
      "display_name": "Python 3",
      "name": "python3"
    },
    "language_info": {
      "name": "python"
    }
  },
  "nbformat": 4,
  "nbformat_minor": 0
}